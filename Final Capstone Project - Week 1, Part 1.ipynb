{
    "cells": [
        {
            "cell_type": "markdown",
            "metadata": {
                "collapsed": true
            },
            "source": "## Introduction/Business Problem"
        },
        {
            "cell_type": "markdown",
            "metadata": {},
            "source": "My aunt is an incredible chef and she would like to open a Ghanaian-inspired family style restaurant. With the large population of New York and the its high immigrant population she figured it would be a great place to give, what would hopefully be the first of many restaurants, great exposure. \n\nCan we determine where in New York she should put her restaurant? It should provide high visibility and traffic but should not already be saturated with non-Western eateries?"
        }
    ],
    "metadata": {
        "kernelspec": {
            "display_name": "Python 3.6",
            "language": "python",
            "name": "python3"
        },
        "language_info": {
            "codemirror_mode": {
                "name": "ipython",
                "version": 3
            },
            "file_extension": ".py",
            "mimetype": "text/x-python",
            "name": "python",
            "nbconvert_exporter": "python",
            "pygments_lexer": "ipython3",
            "version": "3.6.9"
        }
    },
    "nbformat": 4,
    "nbformat_minor": 1
}