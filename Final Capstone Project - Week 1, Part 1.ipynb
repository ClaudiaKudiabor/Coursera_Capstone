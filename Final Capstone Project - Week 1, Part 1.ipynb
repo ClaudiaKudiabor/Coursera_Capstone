{
    "cells": [
        {
            "cell_type": "markdown",
            "metadata": {
                "collapsed": true
            },
            "source": "## Introduction/Business Problem"
        },
        {
            "cell_type": "markdown",
            "metadata": {},
            "source": "My aunt is an incredible chef and she would like to open a Ghanaian-inspired family style restaurant. With the large population of New York and the its high immigrant population she figured it would be a great place to give, what would hopefully be the first of many restaurants, great exposure. \n\nCan we determine where in New York she should put her restaurant? It should provide high visibility and traffic but should not already be saturated with eateries?"
        },
        {
            "cell_type": "markdown",
            "metadata": {},
            "source": "## Data Requirements"
        },
        {
            "cell_type": "markdown",
            "metadata": {},
            "source": "The data required includes the following:\n\n1)\tNew York neighborhood data\n\n2)\tFoursquare data on eateries in the neighborhoods\n\nThe Foursquare data will be overlaid on the neighborhood data to determine which boroughs/neighborhoods offer the most potential for her new restaurant opening. Neighborhoods which do not show an overly saturated market based on the number of eateries in the areas but shows a large number of highly trafficked areas, like parks and bookstores, will be the best candidates.\n"
        },
        {
            "cell_type": "code",
            "execution_count": null,
            "metadata": {},
            "outputs": [],
            "source": ""
        }
    ],
    "metadata": {
        "kernelspec": {
            "display_name": "Python 3.6",
            "language": "python",
            "name": "python3"
        },
        "language_info": {
            "codemirror_mode": {
                "name": "ipython",
                "version": 3
            },
            "file_extension": ".py",
            "mimetype": "text/x-python",
            "name": "python",
            "nbconvert_exporter": "python",
            "pygments_lexer": "ipython3",
            "version": "3.6.9"
        }
    },
    "nbformat": 4,
    "nbformat_minor": 1
}